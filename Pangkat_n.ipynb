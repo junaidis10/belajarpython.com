{
  "nbformat": 4,
  "nbformat_minor": 0,
  "metadata": {
    "colab": {
      "provenance": [],
      "authorship_tag": "ABX9TyPgE/foAI1EgeBLYEo27bCA",
      "include_colab_link": true
    },
    "kernelspec": {
      "name": "python3",
      "display_name": "Python 3"
    },
    "language_info": {
      "name": "python"
    }
  },
  "cells": [
    {
      "cell_type": "markdown",
      "metadata": {
        "id": "view-in-github",
        "colab_type": "text"
      },
      "source": [
        "<a href=\"https://colab.research.google.com/github/junaidis10/belajarpython.com/blob/master/Pangkat_n.ipynb\" target=\"_parent\"><img src=\"https://colab.research.google.com/assets/colab-badge.svg\" alt=\"Open In Colab\"/></a>"
      ]
    },
    {
      "cell_type": "code",
      "execution_count": 1,
      "metadata": {
        "colab": {
          "base_uri": "https://localhost:8080/"
        },
        "id": "hq5hGMgIIZdk",
        "outputId": "db3670f9-081c-4476-e58a-651fb65b498c"
      },
      "outputs": [
        {
          "output_type": "stream",
          "name": "stdout",
          "text": [
            "Hasil Pangkat     = 81\n",
            "Bil. Basis Log-n  = 3\n",
            "------------------------------------------\n",
            "Hasil             = 4\n",
            "------------------------------------------\n",
            "Penjabaran Proses   [3] Berpangkat n =\n",
            "------------------------------------------\n",
            "1 = 3\n",
            "2 = 9\n",
            "3 = 27\n",
            "4 = 81\n",
            "------------------------------------------\n",
            "Hasil  3 Berpangkat  4 = 81\n"
          ]
        }
      ],
      "source": [
        "from math import log\n",
        "import numpy as np\n",
        "# 2 Berpangkat = f(log)\n",
        "x=int(input(\"Hasil Pangkat     = \"))\n",
        "n=int(input(\"Bil. Basis Log-n  = \"))\n",
        "print(\"-\" * 42)\n",
        "nplog = np.frompyfunc(log, 2,1)\n",
        "print(\"Hasil             =\", round(nplog(x, n)))\n",
        "print(\"-\" * 42)\n",
        "print(\"Penjabaran Proses  \",[ n ], \"Berpangkat n =\")\n",
        "print(\"-\" * 42)\n",
        "for j in range(1,round(nplog(x, n))+1):\n",
        "    print(j, \"=\",n**j)\n",
        "print(\"-\" * 42)\n",
        "print(\"Hasil \",n, \"Berpangkat \",round(nplog(x, n)),\"=\", n**round(nplog(x, n)))"
      ]
    }
  ]
}